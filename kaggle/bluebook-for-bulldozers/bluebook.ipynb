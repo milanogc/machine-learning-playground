{
 "cells": [
  {
   "cell_type": "code",
   "execution_count": 1,
   "metadata": {},
   "outputs": [],
   "source": [
    "# https://www.kaggle.com/c/bluebook-for-bulldozers"
   ]
  },
  {
   "cell_type": "code",
   "execution_count": 2,
   "metadata": {},
   "outputs": [],
   "source": [
    "import pandas as pd\n",
    "import numpy as np\n",
    "\n",
    "from sklearn.base import BaseEstimator, TransformerMixin\n",
    "from sklearn.compose import make_column_transformer\n",
    "from sklearn.ensemble import RandomForestRegressor\n",
    "from sklearn.impute import SimpleImputer\n",
    "from sklearn.model_selection import train_test_split\n",
    "from sklearn.pipeline import make_pipeline\n",
    "\n",
    "from category_encoders import OrdinalEncoder"
   ]
  },
  {
   "cell_type": "code",
   "execution_count": 3,
   "metadata": {},
   "outputs": [
    {
     "name": "stdout",
     "output_type": "stream",
     "text": [
      "<class 'pandas.core.frame.DataFrame'>\n",
      "RangeIndex: 401125 entries, 0 to 401124\n",
      "Data columns (total 53 columns):\n",
      "SalesID                     401125 non-null int64\n",
      "SalePrice                   401125 non-null int64\n",
      "MachineID                   401125 non-null int64\n",
      "ModelID                     401125 non-null int64\n",
      "datasource                  401125 non-null int64\n",
      "auctioneerID                380989 non-null float64\n",
      "YearMade                    401125 non-null int64\n",
      "MachineHoursCurrentMeter    142765 non-null float64\n",
      "UsageBand                   69639 non-null object\n",
      "saledate                    401125 non-null datetime64[ns]\n",
      "fiModelDesc                 401125 non-null object\n",
      "fiBaseModel                 401125 non-null object\n",
      "fiSecondaryDesc             263934 non-null object\n",
      "fiModelSeries               56908 non-null object\n",
      "fiModelDescriptor           71919 non-null object\n",
      "ProductSize                 190350 non-null object\n",
      "fiProductClassDesc          401125 non-null object\n",
      "state                       401125 non-null object\n",
      "ProductGroup                401125 non-null object\n",
      "ProductGroupDesc            401125 non-null object\n",
      "Drive_System                104361 non-null object\n",
      "Enclosure                   400800 non-null object\n",
      "Forks                       192077 non-null object\n",
      "Pad_Type                    79134 non-null object\n",
      "Ride_Control                148606 non-null object\n",
      "Stick                       79134 non-null object\n",
      "Transmission                183230 non-null object\n",
      "Turbocharged                79134 non-null object\n",
      "Blade_Extension             25219 non-null object\n",
      "Blade_Width                 25219 non-null object\n",
      "Enclosure_Type              25219 non-null object\n",
      "Engine_Horsepower           25219 non-null object\n",
      "Hydraulics                  320570 non-null object\n",
      "Pushblock                   25219 non-null object\n",
      "Ripper                      104137 non-null object\n",
      "Scarifier                   25230 non-null object\n",
      "Tip_Control                 25219 non-null object\n",
      "Tire_Size                   94718 non-null object\n",
      "Coupler                     213952 non-null object\n",
      "Coupler_System              43458 non-null object\n",
      "Grouser_Tracks              43362 non-null object\n",
      "Hydraulics_Flow             43362 non-null object\n",
      "Track_Type                  99153 non-null object\n",
      "Undercarriage_Pad_Width     99872 non-null object\n",
      "Stick_Length                99218 non-null object\n",
      "Thumb                       99288 non-null object\n",
      "Pattern_Changer             99218 non-null object\n",
      "Grouser_Type                99153 non-null object\n",
      "Backhoe_Mounting            78672 non-null object\n",
      "Blade_Type                  79833 non-null object\n",
      "Travel_Controls             79834 non-null object\n",
      "Differential_Type           69411 non-null object\n",
      "Steering_Controls           69369 non-null object\n",
      "dtypes: datetime64[ns](1), float64(2), int64(6), object(44)\n",
      "memory usage: 162.2+ MB\n"
     ]
    }
   ],
   "source": [
    "df = pd.read_csv('Train.csv', parse_dates=[\"saledate\"], low_memory=False)\n",
    "df.info()"
   ]
  },
  {
   "cell_type": "code",
   "execution_count": 4,
   "metadata": {},
   "outputs": [
    {
     "data": {
      "text/plain": [
       "Backhoe_Mounting            0.803872\n",
       "Blade_Extension             0.937129\n",
       "Blade_Type                  0.800977\n",
       "Blade_Width                 0.937129\n",
       "Coupler                     0.466620\n",
       "Coupler_System              0.891660\n",
       "Differential_Type           0.826959\n",
       "Drive_System                0.739829\n",
       "Enclosure                   0.000810\n",
       "Enclosure_Type              0.937129\n",
       "Engine_Horsepower           0.937129\n",
       "Forks                       0.521154\n",
       "Grouser_Tracks              0.891899\n",
       "Grouser_Type                0.752813\n",
       "Hydraulics                  0.200823\n",
       "Hydraulics_Flow             0.891899\n",
       "MachineHoursCurrentMeter    0.644089\n",
       "MachineID                   0.000000\n",
       "ModelID                     0.000000\n",
       "Pad_Type                    0.802720\n",
       "Pattern_Changer             0.752651\n",
       "ProductGroup                0.000000\n",
       "ProductGroupDesc            0.000000\n",
       "ProductSize                 0.525460\n",
       "Pushblock                   0.937129\n",
       "Ride_Control                0.629527\n",
       "Ripper                      0.740388\n",
       "SalePrice                   0.000000\n",
       "SalesID                     0.000000\n",
       "Scarifier                   0.937102\n",
       "Steering_Controls           0.827064\n",
       "Stick                       0.802720\n",
       "Stick_Length                0.752651\n",
       "Thumb                       0.752476\n",
       "Tip_Control                 0.937129\n",
       "Tire_Size                   0.763869\n",
       "Track_Type                  0.752813\n",
       "Transmission                0.543210\n",
       "Travel_Controls             0.800975\n",
       "Turbocharged                0.802720\n",
       "Undercarriage_Pad_Width     0.751020\n",
       "UsageBand                   0.826391\n",
       "YearMade                    0.000000\n",
       "auctioneerID                0.050199\n",
       "datasource                  0.000000\n",
       "fiBaseModel                 0.000000\n",
       "fiModelDesc                 0.000000\n",
       "fiModelDescriptor           0.820707\n",
       "fiModelSeries               0.858129\n",
       "fiProductClassDesc          0.000000\n",
       "fiSecondaryDesc             0.342016\n",
       "saledate                    0.000000\n",
       "state                       0.000000\n",
       "dtype: float64"
      ]
     },
     "execution_count": 4,
     "metadata": {},
     "output_type": "execute_result"
    }
   ],
   "source": [
    "df.isnull().sum().sort_index() / len(df)"
   ]
  },
  {
   "cell_type": "code",
   "execution_count": 5,
   "metadata": {},
   "outputs": [
    {
     "data": {
      "text/plain": [
       "array(['SalesID', 'SalePrice', 'MachineID', 'ModelID', 'datasource',\n",
       "       'auctioneerID', 'YearMade', 'MachineHoursCurrentMeter'],\n",
       "      dtype=object)"
      ]
     },
     "execution_count": 5,
     "metadata": {},
     "output_type": "execute_result"
    }
   ],
   "source": [
    "df.select_dtypes('number').columns.values"
   ]
  },
  {
   "cell_type": "code",
   "execution_count": 6,
   "metadata": {},
   "outputs": [
    {
     "data": {
      "text/plain": [
       "array(['UsageBand', 'fiModelDesc', 'fiBaseModel', 'fiSecondaryDesc',\n",
       "       'fiModelSeries', 'fiModelDescriptor', 'ProductSize',\n",
       "       'fiProductClassDesc', 'state', 'ProductGroup', 'ProductGroupDesc',\n",
       "       'Drive_System', 'Enclosure', 'Forks', 'Pad_Type', 'Ride_Control',\n",
       "       'Stick', 'Transmission', 'Turbocharged', 'Blade_Extension',\n",
       "       'Blade_Width', 'Enclosure_Type', 'Engine_Horsepower', 'Hydraulics',\n",
       "       'Pushblock', 'Ripper', 'Scarifier', 'Tip_Control', 'Tire_Size',\n",
       "       'Coupler', 'Coupler_System', 'Grouser_Tracks', 'Hydraulics_Flow',\n",
       "       'Track_Type', 'Undercarriage_Pad_Width', 'Stick_Length', 'Thumb',\n",
       "       'Pattern_Changer', 'Grouser_Type', 'Backhoe_Mounting',\n",
       "       'Blade_Type', 'Travel_Controls', 'Differential_Type',\n",
       "       'Steering_Controls'], dtype=object)"
      ]
     },
     "execution_count": 6,
     "metadata": {},
     "output_type": "execute_result"
    }
   ],
   "source": [
    "df.select_dtypes('object').columns.values"
   ]
  },
  {
   "cell_type": "code",
   "execution_count": 7,
   "metadata": {},
   "outputs": [
    {
     "data": {
      "text/plain": [
       "Backhoe_Mounting              2\n",
       "Blade_Extension               2\n",
       "Blade_Type                   10\n",
       "Blade_Width                   6\n",
       "Coupler                       3\n",
       "Coupler_System                2\n",
       "Differential_Type             4\n",
       "Drive_System                  4\n",
       "Enclosure                     6\n",
       "Enclosure_Type                3\n",
       "Engine_Horsepower             2\n",
       "Forks                         2\n",
       "Grouser_Tracks                2\n",
       "Grouser_Type                  3\n",
       "Hydraulics                   12\n",
       "Hydraulics_Flow               3\n",
       "Pad_Type                      4\n",
       "Pattern_Changer               3\n",
       "ProductGroup                  6\n",
       "ProductGroupDesc              6\n",
       "ProductSize                   6\n",
       "Pushblock                     2\n",
       "Ride_Control                  3\n",
       "Ripper                        4\n",
       "Scarifier                     2\n",
       "Steering_Controls             5\n",
       "Stick                         2\n",
       "Stick_Length                 29\n",
       "Thumb                         3\n",
       "Tip_Control                   3\n",
       "Tire_Size                    17\n",
       "Track_Type                    2\n",
       "Transmission                  8\n",
       "Travel_Controls               7\n",
       "Turbocharged                  2\n",
       "Undercarriage_Pad_Width      19\n",
       "UsageBand                     3\n",
       "fiBaseModel                1950\n",
       "fiModelDesc                4999\n",
       "fiModelDescriptor           139\n",
       "fiModelSeries               122\n",
       "fiProductClassDesc           74\n",
       "fiSecondaryDesc             175\n",
       "state                        53\n",
       "dtype: int64"
      ]
     },
     "execution_count": 7,
     "metadata": {},
     "output_type": "execute_result"
    }
   ],
   "source": [
    "df[df.select_dtypes('object').columns.values].nunique().sort_index()"
   ]
  },
  {
   "cell_type": "code",
   "execution_count": 8,
   "metadata": {},
   "outputs": [],
   "source": [
    "df['sale_year'] = df['saledate'].dt.year\n",
    "df['sale_month'] = df['saledate'].dt.month\n",
    "df['sale_week'] = df['saledate'].dt.week\n",
    "df['sale_day'] = df['saledate'].dt.day\n",
    "df['sale_dayofweek'] = df['saledate'].dt.dayofweek\n",
    "df['sale_dayofyear'] = df['saledate'].dt.dayofyear\n",
    "df['sale_is_month_start'] = df['saledate'].dt.is_month_start\n",
    "df['sale_is_month_end'] = df['saledate'].dt.is_month_end\n",
    "df['sale_is_quarter_start'] = df['saledate'].dt.is_quarter_start\n",
    "df['sale_is_quarter_end'] = df['saledate'].dt.is_quarter_end\n",
    "df['sale_is_year_start'] = df['saledate'].dt.is_year_start\n",
    "df['sale_is_year_end'] = df['saledate'].dt.is_year_end\n",
    "df['sale_elapsed'] = (df['saledate'] - df['saledate'].min()).dt.days"
   ]
  },
  {
   "cell_type": "code",
   "execution_count": 9,
   "metadata": {},
   "outputs": [],
   "source": [
    "df['SalePrice'] = np.log(df['SalePrice'])"
   ]
  },
  {
   "cell_type": "code",
   "execution_count": 10,
   "metadata": {},
   "outputs": [
    {
     "data": {
      "text/plain": [
       "((389125, 66), (389125,), (12000, 66), (12000,))"
      ]
     },
     "execution_count": 10,
     "metadata": {},
     "output_type": "execute_result"
    }
   ],
   "source": [
    "# test size is the same from Kaggle\n",
    "X_train, X_test, y_train, y_test = train_test_split(df, df['SalePrice'], test_size=12000, shuffle=False)\n",
    "X_train.shape, y_train.shape, X_test.shape, y_test.shape"
   ]
  },
  {
   "cell_type": "code",
   "execution_count": 11,
   "metadata": {},
   "outputs": [
    {
     "data": {
      "text/plain": [
       "0.9825654751182998"
      ]
     },
     "execution_count": 11,
     "metadata": {},
     "output_type": "execute_result"
    }
   ],
   "source": [
    "class MissingTransformer(BaseEstimator, TransformerMixin):\n",
    "    def fit(self, X, y=None):\n",
    "        return self\n",
    "    \n",
    "    def transform(self, X):\n",
    "        assert isinstance(X, pd.DataFrame)\n",
    "        return X.isnull().values\n",
    "\n",
    "numerical_columns = np.setdiff1d(df.select_dtypes('number').columns.values, ['SalePrice'])\n",
    "categorical_columns = df.select_dtypes('object').columns.values\n",
    "na_columns = df.columns[df.isna().any()].values\n",
    "\n",
    "pipeline = make_pipeline(\n",
    "    make_column_transformer(\n",
    "        (numerical_columns, SimpleImputer(strategy='median')),\n",
    "        (categorical_columns, OrdinalEncoder()),\n",
    "        (na_columns, MissingTransformer()),\n",
    "    ),\n",
    "    RandomForestRegressor(n_estimators=10, random_state=42, n_jobs=-1)\n",
    ")\n",
    "\n",
    "pipeline.fit(df, df['SalePrice'])\n",
    "pipeline.score(df, df['SalePrice'])"
   ]
  },
  {
   "cell_type": "code",
   "execution_count": 12,
   "metadata": {},
   "outputs": [
    {
     "data": {
      "text/plain": [
       "(0.09167419248700492,\n",
       " 0.2551825742187419,\n",
       " 0.9824357741678488,\n",
       " 0.8837079564281558)"
      ]
     },
     "execution_count": 12,
     "metadata": {},
     "output_type": "execute_result"
    }
   ],
   "source": [
    "import math\n",
    "\n",
    "def rmse(x, y): return math.sqrt(((x - y)**2).mean())\n",
    "\n",
    "pipeline.fit(X_train, y_train)\n",
    "\n",
    "(\n",
    "    rmse(pipeline.predict(X_train), y_train),\n",
    "    rmse(pipeline.predict(X_test), y_test),\n",
    "    pipeline.score(X_train, y_train),\n",
    "    pipeline.score(X_test, y_test),\n",
    ")"
   ]
  }
 ],
 "metadata": {
  "kernelspec": {
   "display_name": "Python 3",
   "language": "python",
   "name": "python3"
  },
  "language_info": {
   "codemirror_mode": {
    "name": "ipython",
    "version": 3
   },
   "file_extension": ".py",
   "mimetype": "text/x-python",
   "name": "python",
   "nbconvert_exporter": "python",
   "pygments_lexer": "ipython3",
   "version": "3.6.6"
  }
 },
 "nbformat": 4,
 "nbformat_minor": 2
}
